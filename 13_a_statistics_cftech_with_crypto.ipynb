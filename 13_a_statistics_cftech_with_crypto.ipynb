{
 "cells": [
  {
   "cell_type": "markdown",
   "metadata": {},
   "source": [
    "<img src=\"http://hilpisch.com/tpq_logo.png\" alt=\"The Python Quants\" width=\"35%\" align=\"right\" border=\"0\"><br>"
   ]
  },
  {
   "cell_type": "markdown",
   "metadata": {},
   "source": [
    "# Python for Finance (2nd ed.)\n",
    "\n",
    "**Mastering Data-Driven Finance**\n",
    "\n",
    "&copy; Dr. Yves J. Hilpisch | The Python Quants GmbH\n",
    "\n",
    "<img src=\"http://hilpisch.com/images/py4fi_2nd_shadow.png\" width=\"300px\" align=\"left\">"
   ]
  },
  {
   "cell_type": "code",
   "execution_count": 61,
   "metadata": {
    "uuid": "b5c2a3e0-81d2-4aab-bee0-a9239fc9ffa6"
   },
   "outputs": [],
   "source": [
    "import math\n",
    "import numpy as np\n",
    "import scipy.stats as scs\n",
    "import statsmodels.api as sm\n",
    "# from pylab import mpl, plt\n",
    "from matplotlib.pylab import mpl, plt"
   ]
  },
  {
   "cell_type": "code",
   "execution_count": 62,
   "metadata": {},
   "outputs": [],
   "source": [
    "plt.style.use('seaborn')\n",
    "mpl.rcParams['font.family'] = 'serif'\n",
    "%matplotlib inline"
   ]
  },
  {
   "cell_type": "markdown",
   "metadata": {},
   "source": [
    "### Real World Data"
   ]
  },
  {
   "cell_type": "code",
   "execution_count": 63,
   "metadata": {
    "uuid": "2fac84d1-67fd-4345-a9b8-58e8e20b6ea6"
   },
   "outputs": [],
   "source": [
    "import pandas as pd"
   ]
  },
  {
   "cell_type": "code",
   "execution_count": 64,
   "metadata": {},
   "outputs": [],
   "source": [
    "raw = pd.read_csv('tr_eikon_eod_data.csv',\n",
    "                 index_col=0, parse_dates=True).dropna()"
   ]
  },
  {
   "cell_type": "code",
   "execution_count": 65,
   "outputs": [],
   "source": [
    "data_cmc = pd.read_csv('crypto-markets.csv')"
   ],
   "metadata": {
    "collapsed": false,
    "pycharm": {
     "name": "#%%\n"
    }
   }
  },
  {
   "cell_type": "code",
   "execution_count": 66,
   "outputs": [],
   "source": [
    "data_cmc['date'] = pd.to_datetime(data_cmc['date'])\n",
    "data_cmc.index = pd.DatetimeIndex(data_cmc['date'])\n",
    "symbol = 'bitcoin'\n",
    "data_symbol = pd.DataFrame(data_cmc['close'].loc[data_cmc['slug'] == symbol])"
   ],
   "metadata": {
    "collapsed": false,
    "pycharm": {
     "name": "#%%\n"
    }
   }
  },
  {
   "cell_type": "code",
   "execution_count": 67,
   "metadata": {
    "uuid": "8c2cddba-d3fc-4e22-8b22-b0a6dcf61f16"
   },
   "outputs": [],
   "source": [
    "symbols = ['SPY', 'GLD', 'AAPL.O', 'MSFT.O', 'bitcoin']"
   ]
  },
  {
   "cell_type": "code",
   "execution_count": 68,
   "metadata": {
    "uuid": "eaa5651f-3c91-4f0f-9941-b564e4b7dbe1"
   },
   "outputs": [
    {
     "ename": "KeyError",
     "evalue": "\"['bitcoin'] not in index\"",
     "output_type": "error",
     "traceback": [
      "\u001B[0;31m---------------------------------------------------------------------------\u001B[0m",
      "\u001B[0;31mKeyError\u001B[0m                                  Traceback (most recent call last)",
      "Input \u001B[0;32mIn [68]\u001B[0m, in \u001B[0;36m<module>\u001B[0;34m\u001B[0m\n\u001B[0;32m----> 1\u001B[0m data \u001B[38;5;241m=\u001B[39m \u001B[43mraw\u001B[49m\u001B[43m[\u001B[49m\u001B[43msymbols\u001B[49m\u001B[43m]\u001B[49m\n\u001B[1;32m      2\u001B[0m data[\u001B[38;5;124m\"\u001B[39m\u001B[38;5;124mbitcoin\u001B[39m\u001B[38;5;124m\"\u001B[39m] \u001B[38;5;241m=\u001B[39m data_symbol\n",
      "File \u001B[0;32m~/PycharmProjects/mv-portfolio-optim-tallerzalan/venv/lib/python3.8/site-packages/pandas/core/frame.py:3511\u001B[0m, in \u001B[0;36mDataFrame.__getitem__\u001B[0;34m(self, key)\u001B[0m\n\u001B[1;32m   3509\u001B[0m     \u001B[38;5;28;01mif\u001B[39;00m is_iterator(key):\n\u001B[1;32m   3510\u001B[0m         key \u001B[38;5;241m=\u001B[39m \u001B[38;5;28mlist\u001B[39m(key)\n\u001B[0;32m-> 3511\u001B[0m     indexer \u001B[38;5;241m=\u001B[39m \u001B[38;5;28;43mself\u001B[39;49m\u001B[38;5;241;43m.\u001B[39;49m\u001B[43mcolumns\u001B[49m\u001B[38;5;241;43m.\u001B[39;49m\u001B[43m_get_indexer_strict\u001B[49m\u001B[43m(\u001B[49m\u001B[43mkey\u001B[49m\u001B[43m,\u001B[49m\u001B[43m \u001B[49m\u001B[38;5;124;43m\"\u001B[39;49m\u001B[38;5;124;43mcolumns\u001B[39;49m\u001B[38;5;124;43m\"\u001B[39;49m\u001B[43m)\u001B[49m[\u001B[38;5;241m1\u001B[39m]\n\u001B[1;32m   3513\u001B[0m \u001B[38;5;66;03m# take() does not accept boolean indexers\u001B[39;00m\n\u001B[1;32m   3514\u001B[0m \u001B[38;5;28;01mif\u001B[39;00m \u001B[38;5;28mgetattr\u001B[39m(indexer, \u001B[38;5;124m\"\u001B[39m\u001B[38;5;124mdtype\u001B[39m\u001B[38;5;124m\"\u001B[39m, \u001B[38;5;28;01mNone\u001B[39;00m) \u001B[38;5;241m==\u001B[39m \u001B[38;5;28mbool\u001B[39m:\n",
      "File \u001B[0;32m~/PycharmProjects/mv-portfolio-optim-tallerzalan/venv/lib/python3.8/site-packages/pandas/core/indexes/base.py:5782\u001B[0m, in \u001B[0;36mIndex._get_indexer_strict\u001B[0;34m(self, key, axis_name)\u001B[0m\n\u001B[1;32m   5779\u001B[0m \u001B[38;5;28;01melse\u001B[39;00m:\n\u001B[1;32m   5780\u001B[0m     keyarr, indexer, new_indexer \u001B[38;5;241m=\u001B[39m \u001B[38;5;28mself\u001B[39m\u001B[38;5;241m.\u001B[39m_reindex_non_unique(keyarr)\n\u001B[0;32m-> 5782\u001B[0m \u001B[38;5;28;43mself\u001B[39;49m\u001B[38;5;241;43m.\u001B[39;49m\u001B[43m_raise_if_missing\u001B[49m\u001B[43m(\u001B[49m\u001B[43mkeyarr\u001B[49m\u001B[43m,\u001B[49m\u001B[43m \u001B[49m\u001B[43mindexer\u001B[49m\u001B[43m,\u001B[49m\u001B[43m \u001B[49m\u001B[43maxis_name\u001B[49m\u001B[43m)\u001B[49m\n\u001B[1;32m   5784\u001B[0m keyarr \u001B[38;5;241m=\u001B[39m \u001B[38;5;28mself\u001B[39m\u001B[38;5;241m.\u001B[39mtake(indexer)\n\u001B[1;32m   5785\u001B[0m \u001B[38;5;28;01mif\u001B[39;00m \u001B[38;5;28misinstance\u001B[39m(key, Index):\n\u001B[1;32m   5786\u001B[0m     \u001B[38;5;66;03m# GH 42790 - Preserve name from an Index\u001B[39;00m\n",
      "File \u001B[0;32m~/PycharmProjects/mv-portfolio-optim-tallerzalan/venv/lib/python3.8/site-packages/pandas/core/indexes/base.py:5845\u001B[0m, in \u001B[0;36mIndex._raise_if_missing\u001B[0;34m(self, key, indexer, axis_name)\u001B[0m\n\u001B[1;32m   5842\u001B[0m     \u001B[38;5;28;01mraise\u001B[39;00m \u001B[38;5;167;01mKeyError\u001B[39;00m(\u001B[38;5;124mf\u001B[39m\u001B[38;5;124m\"\u001B[39m\u001B[38;5;124mNone of [\u001B[39m\u001B[38;5;132;01m{\u001B[39;00mkey\u001B[38;5;132;01m}\u001B[39;00m\u001B[38;5;124m] are in the [\u001B[39m\u001B[38;5;132;01m{\u001B[39;00maxis_name\u001B[38;5;132;01m}\u001B[39;00m\u001B[38;5;124m]\u001B[39m\u001B[38;5;124m\"\u001B[39m)\n\u001B[1;32m   5844\u001B[0m not_found \u001B[38;5;241m=\u001B[39m \u001B[38;5;28mlist\u001B[39m(ensure_index(key)[missing_mask\u001B[38;5;241m.\u001B[39mnonzero()[\u001B[38;5;241m0\u001B[39m]]\u001B[38;5;241m.\u001B[39munique())\n\u001B[0;32m-> 5845\u001B[0m \u001B[38;5;28;01mraise\u001B[39;00m \u001B[38;5;167;01mKeyError\u001B[39;00m(\u001B[38;5;124mf\u001B[39m\u001B[38;5;124m\"\u001B[39m\u001B[38;5;132;01m{\u001B[39;00mnot_found\u001B[38;5;132;01m}\u001B[39;00m\u001B[38;5;124m not in index\u001B[39m\u001B[38;5;124m\"\u001B[39m)\n",
      "\u001B[0;31mKeyError\u001B[0m: \"['bitcoin'] not in index\""
     ]
    }
   ],
   "source": [
    "data = raw[symbols]\n",
    "data[\"bitcoin\"] = data_symbol"
   ]
  },
  {
   "cell_type": "code",
   "execution_count": 69,
   "outputs": [],
   "source": [
    "data = data.dropna()"
   ],
   "metadata": {
    "collapsed": false,
    "pycharm": {
     "name": "#%%\n"
    }
   }
  },
  {
   "cell_type": "code",
   "execution_count": 71,
   "metadata": {
    "uuid": "e4574de5-c00f-4665-b341-dad771d24d8e"
   },
   "outputs": [
    {
     "name": "stdout",
     "output_type": "stream",
     "text": [
      "<class 'pandas.core.frame.DataFrame'>\n",
      "DatetimeIndex: 1304 entries, 2013-04-29 to 2018-06-29\n",
      "Data columns (total 5 columns):\n",
      " #   Column   Non-Null Count  Dtype  \n",
      "---  ------   --------------  -----  \n",
      " 0   SPY      1304 non-null   float64\n",
      " 1   GLD      1304 non-null   float64\n",
      " 2   AAPL.O   1304 non-null   float64\n",
      " 3   MSFT.O   1304 non-null   float64\n",
      " 4   bitcoin  1304 non-null   float64\n",
      "dtypes: float64(5)\n",
      "memory usage: 61.1 KB\n"
     ]
    }
   ],
   "source": [
    "data.info()"
   ]
  },
  {
   "cell_type": "code",
   "execution_count": 72,
   "metadata": {
    "uuid": "f2acb16d-fd16-4008-95a7-5213e3df3a9e"
   },
   "outputs": [
    {
     "data": {
      "text/plain": "                SPY     GLD     AAPL.O  MSFT.O  bitcoin\nDate                                                   \n2013-04-29  159.300  142.30  61.445653   32.61   144.54\n2013-04-30  159.680  142.77  63.254222   33.10   139.00\n2013-05-01  158.280  141.11  62.755652   32.72   116.99\n2013-05-02  159.750  141.92  63.645651   33.16   105.21\n2013-05-03  161.368  142.09  64.282793   33.49    97.75",
      "text/html": "<div>\n<style scoped>\n    .dataframe tbody tr th:only-of-type {\n        vertical-align: middle;\n    }\n\n    .dataframe tbody tr th {\n        vertical-align: top;\n    }\n\n    .dataframe thead th {\n        text-align: right;\n    }\n</style>\n<table border=\"1\" class=\"dataframe\">\n  <thead>\n    <tr style=\"text-align: right;\">\n      <th></th>\n      <th>SPY</th>\n      <th>GLD</th>\n      <th>AAPL.O</th>\n      <th>MSFT.O</th>\n      <th>bitcoin</th>\n    </tr>\n    <tr>\n      <th>Date</th>\n      <th></th>\n      <th></th>\n      <th></th>\n      <th></th>\n      <th></th>\n    </tr>\n  </thead>\n  <tbody>\n    <tr>\n      <th>2013-04-29</th>\n      <td>159.300</td>\n      <td>142.30</td>\n      <td>61.445653</td>\n      <td>32.61</td>\n      <td>144.54</td>\n    </tr>\n    <tr>\n      <th>2013-04-30</th>\n      <td>159.680</td>\n      <td>142.77</td>\n      <td>63.254222</td>\n      <td>33.10</td>\n      <td>139.00</td>\n    </tr>\n    <tr>\n      <th>2013-05-01</th>\n      <td>158.280</td>\n      <td>141.11</td>\n      <td>62.755652</td>\n      <td>32.72</td>\n      <td>116.99</td>\n    </tr>\n    <tr>\n      <th>2013-05-02</th>\n      <td>159.750</td>\n      <td>141.92</td>\n      <td>63.645651</td>\n      <td>33.16</td>\n      <td>105.21</td>\n    </tr>\n    <tr>\n      <th>2013-05-03</th>\n      <td>161.368</td>\n      <td>142.09</td>\n      <td>64.282793</td>\n      <td>33.49</td>\n      <td>97.75</td>\n    </tr>\n  </tbody>\n</table>\n</div>"
     },
     "execution_count": 72,
     "metadata": {},
     "output_type": "execute_result"
    }
   ],
   "source": [
    "data.head()"
   ]
  },
  {
   "cell_type": "code",
   "execution_count": 73,
   "metadata": {
    "uuid": "d4cf7b80-4be5-48d6-b669-acf6c9784941"
   },
   "outputs": [
    {
     "data": {
      "text/plain": "<AxesSubplot:xlabel='Date'>"
     },
     "execution_count": 73,
     "metadata": {},
     "output_type": "execute_result"
    },
    {
     "data": {
      "text/plain": "<Figure size 720x432 with 1 Axes>",
      "image/png": "[encoded data removed]"
     },
     "metadata": {
      "needs_background": "light"
     },
     "output_type": "display_data"
    }
   ],
   "source": [
    "(data / data.iloc[0] * 100).plot(figsize=(10, 6))\n"
   ]
  },
  {
   "cell_type": "code",
   "execution_count": 74,
   "metadata": {
    "uuid": "8caf3129-34cb-4ce0-a53b-bef84d3db2dc"
   },
   "outputs": [
    {
     "data": {
      "text/plain": "                 SPY       GLD    AAPL.O    MSFT.O   bitcoin\nDate                                                        \n2013-04-29       NaN       NaN       NaN       NaN       NaN\n2013-04-30  0.002383  0.003297  0.029009  0.014914 -0.039082\n2013-05-01 -0.008806 -0.011695 -0.007913 -0.011547 -0.172385\n2013-05-02  0.009244  0.005724  0.014082  0.013358 -0.106130\n2013-05-03  0.010077  0.001197  0.009961  0.009903 -0.073545",
      "text/html": "<div>\n<style scoped>\n    .dataframe tbody tr th:only-of-type {\n        vertical-align: middle;\n    }\n\n    .dataframe tbody tr th {\n        vertical-align: top;\n    }\n\n    .dataframe thead th {\n        text-align: right;\n    }\n</style>\n<table border=\"1\" class=\"dataframe\">\n  <thead>\n    <tr style=\"text-align: right;\">\n      <th></th>\n      <th>SPY</th>\n      <th>GLD</th>\n      <th>AAPL.O</th>\n      <th>MSFT.O</th>\n      <th>bitcoin</th>\n    </tr>\n    <tr>\n      <th>Date</th>\n      <th></th>\n      <th></th>\n      <th></th>\n      <th></th>\n      <th></th>\n    </tr>\n  </thead>\n  <tbody>\n    <tr>\n      <th>2013-04-29</th>\n      <td>NaN</td>\n      <td>NaN</td>\n      <td>NaN</td>\n      <td>NaN</td>\n      <td>NaN</td>\n    </tr>\n    <tr>\n      <th>2013-04-30</th>\n      <td>0.002383</td>\n      <td>0.003297</td>\n      <td>0.029009</td>\n      <td>0.014914</td>\n      <td>-0.039082</td>\n    </tr>\n    <tr>\n      <th>2013-05-01</th>\n      <td>-0.008806</td>\n      <td>-0.011695</td>\n      <td>-0.007913</td>\n      <td>-0.011547</td>\n      <td>-0.172385</td>\n    </tr>\n    <tr>\n      <th>2013-05-02</th>\n      <td>0.009244</td>\n      <td>0.005724</td>\n      <td>0.014082</td>\n      <td>0.013358</td>\n      <td>-0.106130</td>\n    </tr>\n    <tr>\n      <th>2013-05-03</th>\n      <td>0.010077</td>\n      <td>0.001197</td>\n      <td>0.009961</td>\n      <td>0.009903</td>\n      <td>-0.073545</td>\n    </tr>\n  </tbody>\n</table>\n</div>"
     },
     "execution_count": 74,
     "metadata": {},
     "output_type": "execute_result"
    }
   ],
   "source": [
    "log_returns = np.log(data / data.shift(1))\n",
    "log_returns.head()"
   ]
  },
  {
   "cell_type": "code",
   "execution_count": 76,
   "metadata": {
    "uuid": "f6fefbe1-3ec6-4d1b-b774-9db3f3c38c83"
   },
   "outputs": [
    {
     "data": {
      "text/plain": "<Figure size 720x576 with 6 Axes>",
      "image/png": "[encoded data removed]"
     },
     "metadata": {
      "needs_background": "light"
     },
     "output_type": "display_data"
    }
   ],
   "source": [
    "log_returns.hist(bins=50, figsize=(10, 8));\n",
    "# plt.savefig('../../images/ch13/stat_08.png');"
   ]
  },
  {
   "cell_type": "code",
   "execution_count": 77,
   "metadata": {},
   "outputs": [],
   "source": [
    "def print_statistics(array):\n",
    "    ''' Prints selected statistics.\n",
    "    \n",
    "    Parameters\n",
    "    ==========\n",
    "    array: ndarray\n",
    "        object to generate statistics on\n",
    "    '''\n",
    "    sta = scs.describe(array)\n",
    "    print('%14s %15s' % ('statistic', 'value'))\n",
    "    print(30 * '-')\n",
    "    print('%14s %15.5f' % ('size', sta[0]))\n",
    "    print('%14s %15.5f' % ('min', sta[1][0]))\n",
    "    print('%14s %15.5f' % ('max', sta[1][1]))\n",
    "    print('%14s %15.5f' % ('mean', sta[2]))\n",
    "    print('%14s %15.5f' % ('std', np.sqrt(sta[3])))\n",
    "    print('%14s %15.5f' % ('skew', sta[4]))\n",
    "    print('%14s %15.5f' % ('kurtosis', sta[5]))"
   ]
  },
  {
   "cell_type": "code",
   "execution_count": 78,
   "metadata": {},
   "outputs": [
    {
     "name": "stdout",
     "output_type": "stream",
     "text": [
      "\n",
      "Results for symbol SPY\n",
      "------------------------------\n",
      "     statistic           value\n",
      "------------------------------\n",
      "          size      1303.00000\n",
      "           min        -0.04302\n",
      "           max         0.03768\n",
      "          mean         0.00041\n",
      "           std         0.00786\n",
      "          skew        -0.60106\n",
      "      kurtosis         3.38698\n",
      "\n",
      "Results for symbol GLD\n",
      "------------------------------\n",
      "     statistic           value\n",
      "------------------------------\n",
      "          size      1303.00000\n",
      "           min        -0.05501\n",
      "           max         0.04795\n",
      "          mean        -0.00014\n",
      "           std         0.00935\n",
      "          skew        -0.00251\n",
      "      kurtosis         2.99413\n",
      "\n",
      "Results for symbol AAPL.O\n",
      "------------------------------\n",
      "     statistic           value\n",
      "------------------------------\n",
      "          size      1303.00000\n",
      "           min        -0.08330\n",
      "           max         0.07879\n",
      "          mean         0.00085\n",
      "           std         0.01441\n",
      "          skew        -0.08623\n",
      "      kurtosis         3.74096\n",
      "\n",
      "Results for symbol MSFT.O\n",
      "------------------------------\n",
      "     statistic           value\n",
      "------------------------------\n",
      "          size      1303.00000\n",
      "           min        -0.12103\n",
      "           max         0.09941\n",
      "          mean         0.00085\n",
      "           std         0.01444\n",
      "          skew        -0.18578\n",
      "      kurtosis        10.46301\n",
      "\n",
      "Results for symbol bitcoin\n",
      "------------------------------\n",
      "     statistic           value\n",
      "------------------------------\n",
      "          size      1303.00000\n",
      "           min        -0.26620\n",
      "           max         0.52079\n",
      "          mean         0.00289\n",
      "           std         0.05281\n",
      "          skew         0.45904\n",
      "      kurtosis        11.07716\n"
     ]
    }
   ],
   "source": [
    "for sym in symbols:\n",
    "    print('\\nResults for symbol {}'.format(sym))\n",
    "    print(30 * '-')\n",
    "    log_data = np.array(log_returns[sym].dropna())\n",
    "    print_statistics(log_data)  \n"
   ]
  },
  {
   "cell_type": "code",
   "execution_count": 81,
   "metadata": {
    "uuid": "83fc3d8b-03c4-43bc-a7a3-b7ac0747c2b1"
   },
   "outputs": [
    {
     "data": {
      "text/plain": "<Figure size 432x288 with 1 Axes>",
      "image/png": "[encoded data removed]"
     },
     "metadata": {
      "needs_background": "light"
     },
     "output_type": "display_data"
    }
   ],
   "source": [
    "sm.qqplot(log_returns['bitcoin'].dropna(), line='s')\n",
    "plt.title('BITCOIN')\n",
    "plt.xlabel('theoretical quantiles')\n",
    "plt.ylabel('sample quantiles');\n",
    "# plt.savefig('../../images/ch13/stat_09.png');"
   ]
  },
  {
   "cell_type": "markdown",
   "metadata": {},
   "source": [
    "## Portfolio Optimization"
   ]
  },
  {
   "cell_type": "markdown",
   "metadata": {},
   "source": [
    "### The Data"
   ]
  },
  {
   "cell_type": "code",
   "execution_count": 82,
   "metadata": {
    "uuid": "74a583b1-1e85-4efa-adf0-c70377606aa6"
   },
   "outputs": [],
   "source": [
    "symbols = ['AAPL.O', 'MSFT.O', 'SPY', 'GLD', 'bitcoin']"
   ]
  },
  {
   "cell_type": "code",
   "execution_count": 83,
   "metadata": {
    "uuid": "74a583b1-1e85-4efa-adf0-c70377606aa6"
   },
   "outputs": [],
   "source": [
    "noa = len(symbols)  "
   ]
  },
  {
   "cell_type": "code",
   "execution_count": 84,
   "metadata": {
    "uuid": "23729711-44d9-49a9-9c10-8d238be308cb"
   },
   "outputs": [],
   "source": [
    "data = data[symbols]"
   ]
  },
  {
   "cell_type": "code",
   "execution_count": 85,
   "metadata": {
    "uuid": "e7e3d4af-6b03-4b05-9bb2-69132aa9b96d"
   },
   "outputs": [],
   "source": [
    "rets = np.log(data / data.shift(1))"
   ]
  },
  {
   "cell_type": "code",
   "execution_count": 86,
   "metadata": {
    "uuid": "2bd5a671-fb77-4c78-90d9-bef99c34af86"
   },
   "outputs": [
    {
     "data": {
      "text/plain": "<Figure size 720x576 with 6 Axes>",
      "image/png": "[encoded data removed]"
     },
     "metadata": {
      "needs_background": "light"
     },
     "output_type": "display_data"
    }
   ],
   "source": [
    "rets.hist(bins=40, figsize=(10, 8));\n"
   ]
  },
  {
   "cell_type": "code",
   "execution_count": 87,
   "metadata": {
    "uuid": "3416c8ac-7ee5-4c5d-a929-92aa2881382d"
   },
   "outputs": [
    {
     "data": {
      "text/plain": "AAPL.O     0.213281\nMSFT.O     0.214007\nSPY        0.102959\nGLD       -0.035152\nbitcoin    0.727511\ndtype: float64"
     },
     "execution_count": 87,
     "metadata": {},
     "output_type": "execute_result"
    }
   ],
   "source": [
    "rets.mean() * 252  "
   ]
  },
  {
   "cell_type": "code",
   "execution_count": 88,
   "metadata": {
    "uuid": "437bb447-a4b0-4ddc-97de-965d2cb6c9f2"
   },
   "outputs": [
    {
     "data": {
      "text/plain": "           AAPL.O    MSFT.O       SPY       GLD   bitcoin\nAAPL.O   0.052311  0.021116  0.015316 -0.001370  0.004566\nMSFT.O   0.021116  0.052531  0.018365 -0.002097  0.001944\nSPY      0.015316  0.018365  0.015575 -0.002076  0.001453\nGLD     -0.001370 -0.002097 -0.002076  0.022031 -0.002309\nbitcoin  0.004566  0.001944  0.001453 -0.002309  0.702785",
      "text/html": "<div>\n<style scoped>\n    .dataframe tbody tr th:only-of-type {\n        vertical-align: middle;\n    }\n\n    .dataframe tbody tr th {\n        vertical-align: top;\n    }\n\n    .dataframe thead th {\n        text-align: right;\n    }\n</style>\n<table border=\"1\" class=\"dataframe\">\n  <thead>\n    <tr style=\"text-align: right;\">\n      <th></th>\n      <th>AAPL.O</th>\n      <th>MSFT.O</th>\n      <th>SPY</th>\n      <th>GLD</th>\n      <th>bitcoin</th>\n    </tr>\n  </thead>\n  <tbody>\n    <tr>\n      <th>AAPL.O</th>\n      <td>0.052311</td>\n      <td>0.021116</td>\n      <td>0.015316</td>\n      <td>-0.001370</td>\n      <td>0.004566</td>\n    </tr>\n    <tr>\n      <th>MSFT.O</th>\n      <td>0.021116</td>\n      <td>0.052531</td>\n      <td>0.018365</td>\n      <td>-0.002097</td>\n      <td>0.001944</td>\n    </tr>\n    <tr>\n      <th>SPY</th>\n      <td>0.015316</td>\n      <td>0.018365</td>\n      <td>0.015575</td>\n      <td>-0.002076</td>\n      <td>0.001453</td>\n    </tr>\n    <tr>\n      <th>GLD</th>\n      <td>-0.001370</td>\n      <td>-0.002097</td>\n      <td>-0.002076</td>\n      <td>0.022031</td>\n      <td>-0.002309</td>\n    </tr>\n    <tr>\n      <th>bitcoin</th>\n      <td>0.004566</td>\n      <td>0.001944</td>\n      <td>0.001453</td>\n      <td>-0.002309</td>\n      <td>0.702785</td>\n    </tr>\n  </tbody>\n</table>\n</div>"
     },
     "execution_count": 88,
     "metadata": {},
     "output_type": "execute_result"
    }
   ],
   "source": [
    "rets.cov() * 252"
   ]
  },
  {
   "cell_type": "markdown",
   "metadata": {},
   "source": [
    "### The Basic Theory"
   ]
  },
  {
   "cell_type": "code",
   "execution_count": 89,
   "metadata": {
    "uuid": "3d86ff5b-9de8-4cee-99ea-cc01e4697320"
   },
   "outputs": [],
   "source": [
    "weights = np.random.random(noa)  \n",
    "weights /= np.sum(weights)  "
   ]
  },
  {
   "cell_type": "code",
   "execution_count": 90,
   "metadata": {
    "uuid": "9d9499c0-c033-4d4a-b2d4-e8ef064eb9ae"
   },
   "outputs": [
    {
     "data": {
      "text/plain": "array([0.21796133, 0.12811384, 0.30518743, 0.23555827, 0.11317913])"
     },
     "execution_count": 90,
     "metadata": {},
     "output_type": "execute_result"
    }
   ],
   "source": [
    "weights"
   ]
  },
  {
   "cell_type": "code",
   "execution_count": 91,
   "metadata": {
    "scrolled": true,
    "uuid": "9d9499c0-c033-4d4a-b2d4-e8ef064eb9ae"
   },
   "outputs": [
    {
     "data": {
      "text/plain": "1.0"
     },
     "execution_count": 91,
     "metadata": {},
     "output_type": "execute_result"
    }
   ],
   "source": [
    "weights.sum()"
   ]
  },
  {
   "cell_type": "code",
   "execution_count": 92,
   "metadata": {
    "uuid": "c9ec5dc3-df96-4418-90fe-0e76ed7b006d"
   },
   "outputs": [
    {
     "data": {
      "text/plain": "0.17938468568514276"
     },
     "execution_count": 92,
     "metadata": {},
     "output_type": "execute_result"
    }
   ],
   "source": [
    "np.sum(rets.mean() * weights) * 252  "
   ]
  },
  {
   "cell_type": "code",
   "execution_count": 93,
   "metadata": {
    "uuid": "40f68bdb-74ea-4f6d-9f93-c498a9a13167"
   },
   "outputs": [
    {
     "data": {
      "text/plain": "0.01936890109157908"
     },
     "execution_count": 93,
     "metadata": {},
     "output_type": "execute_result"
    }
   ],
   "source": [
    "np.dot(weights.T, np.dot(rets.cov() * 252, weights))  "
   ]
  },
  {
   "cell_type": "code",
   "execution_count": 94,
   "metadata": {
    "uuid": "351e317e-5f22-474b-b1a5-1f2934f608a1"
   },
   "outputs": [
    {
     "data": {
      "text/plain": "0.1391721994206425"
     },
     "execution_count": 94,
     "metadata": {},
     "output_type": "execute_result"
    }
   ],
   "source": [
    "math.sqrt(np.dot(weights.T, np.dot(rets.cov() * 252, weights)))  "
   ]
  },
  {
   "cell_type": "code",
   "execution_count": 95,
   "metadata": {},
   "outputs": [],
   "source": [
    "def port_ret(weights):\n",
    "    return np.sum(rets.mean() * weights) * 252"
   ]
  },
  {
   "cell_type": "code",
   "execution_count": 96,
   "metadata": {},
   "outputs": [],
   "source": [
    "def port_vol(weights):\n",
    "    return np.sqrt(np.dot(weights.T, np.dot(rets.cov() * 252, weights)))"
   ]
  },
  {
   "cell_type": "code",
   "execution_count": 97,
   "metadata": {
    "uuid": "689bff52-80a9-48ac-9fce-0855e2a763ae"
   },
   "outputs": [],
   "source": [
    "prets = []\n",
    "pvols = []\n",
    "for p in range (2500):  \n",
    "    weights = np.random.random(noa)  \n",
    "    weights /= np.sum(weights)  \n",
    "    prets.append(port_ret(weights))  \n",
    "    pvols.append(port_vol(weights))  \n",
    "prets = np.array(prets)\n",
    "pvols = np.array(pvols)"
   ]
  },
  {
   "cell_type": "code",
   "execution_count": 98,
   "metadata": {
    "uuid": "81d7f822-79e9-41bb-94b1-649807788f2e"
   },
   "outputs": [
    {
     "name": "stderr",
     "output_type": "stream",
     "text": [
      "/var/folders/bh/t4pmhqqn52n_y66q9mqwj6pw0000gn/T/ipykernel_3277/3843745508.py:6: MatplotlibDeprecationWarning: Auto-removal of grids by pcolor() and pcolormesh() is deprecated since 3.5 and will be removed two minor releases later; please call grid(False) first.\n",
      "  plt.colorbar(label='Sharpe ratio');\n"
     ]
    },
    {
     "data": {
      "text/plain": "<Figure size 720x432 with 2 Axes>",
      "image/png": "[encoded data removed]"
     },
     "metadata": {
      "needs_background": "light"
     },
     "output_type": "display_data"
    }
   ],
   "source": [
    "plt.figure(figsize=(10, 6))\n",
    "plt.scatter(pvols, prets, c=prets / pvols,\n",
    "            marker='o', cmap='coolwarm')\n",
    "plt.xlabel('expected volatility')\n",
    "plt.ylabel('expected return')\n",
    "plt.colorbar(label='Sharpe ratio');\n",
    "# plt.savefig('../../images/ch13/stat_12.png')"
   ]
  },
  {
   "cell_type": "markdown",
   "metadata": {},
   "source": [
    "### Portfolio Optimizations"
   ]
  },
  {
   "cell_type": "code",
   "execution_count": 99,
   "metadata": {
    "uuid": "1fea02c0-d092-4a29-a9eb-2d4022985a62"
   },
   "outputs": [],
   "source": [
    "import scipy.optimize as sco"
   ]
  },
  {
   "cell_type": "code",
   "execution_count": 100,
   "metadata": {
    "uuid": "0124792d-7b7f-4f7c-ac42-367681a7145f"
   },
   "outputs": [],
   "source": [
    "def min_func_sharpe(weights):  \n",
    "    return -port_ret(weights) / port_vol(weights)  "
   ]
  },
  {
   "cell_type": "code",
   "execution_count": 101,
   "metadata": {
    "uuid": "a634bb6a-ef2e-4a68-9414-b2e320b58296"
   },
   "outputs": [],
   "source": [
    "cons = ({'type': 'eq', 'fun': lambda x:  np.sum(x) - 1})  "
   ]
  },
  {
   "cell_type": "code",
   "execution_count": 102,
   "metadata": {
    "uuid": "40e6c1b4-8fb8-4a8f-b2ba-36ffdaefc47b"
   },
   "outputs": [],
   "source": [
    "bnds = tuple((0, 1) for x in range(noa))  "
   ]
  },
  {
   "cell_type": "code",
   "execution_count": 103,
   "metadata": {
    "uuid": "d689f1b3-c680-4a1e-865b-85a64b06c0f6"
   },
   "outputs": [
    {
     "data": {
      "text/plain": "array([0.2, 0.2, 0.2, 0.2, 0.2])"
     },
     "execution_count": 103,
     "metadata": {},
     "output_type": "execute_result"
    }
   ],
   "source": [
    "eweights = np.array(noa * [1. / noa,])  \n",
    "eweights  "
   ]
  },
  {
   "cell_type": "code",
   "execution_count": 104,
   "metadata": {},
   "outputs": [
    {
     "data": {
      "text/plain": "-1.2510474443442743"
     },
     "execution_count": 104,
     "metadata": {},
     "output_type": "execute_result"
    }
   ],
   "source": [
    "min_func_sharpe(eweights)"
   ]
  },
  {
   "cell_type": "code",
   "execution_count": 105,
   "metadata": {
    "uuid": "dda15397-398b-445e-be6a-11e7ed0e3c32"
   },
   "outputs": [
    {
     "name": "stdout",
     "output_type": "stream",
     "text": [
      "CPU times: user 165 ms, sys: 12.6 ms, total: 177 ms\n",
      "Wall time: 214 ms\n"
     ]
    }
   ],
   "source": [
    "%%time\n",
    "opts = sco.minimize(min_func_sharpe, eweights,\n",
    "                    method='SLSQP', bounds=bnds,\n",
    "                    constraints=cons)  "
   ]
  },
  {
   "cell_type": "code",
   "execution_count": 106,
   "metadata": {
    "uuid": "ee237054-2af4-4879-97d1-0ee77d84d9a8"
   },
   "outputs": [
    {
     "data": {
      "text/plain": "     fun: -1.399822426073594\n     jac: array([ 0.00018607,  0.00019889,  0.00030506,  0.11163849, -0.00123319])\n message: 'Optimization terminated successfully'\n    nfev: 43\n     nit: 7\n    njev: 7\n  status: 0\n success: True\n       x: array([0.38084508, 0.38436191, 0.09247756, 0.        , 0.14231545])"
     },
     "execution_count": 106,
     "metadata": {},
     "output_type": "execute_result"
    }
   ],
   "source": [
    "opts  "
   ]
  },
  {
   "cell_type": "code",
   "execution_count": 107,
   "metadata": {
    "uuid": "e0a821b0-a330-4979-bec2-a9e731f11656"
   },
   "outputs": [
    {
     "data": {
      "text/plain": "array([0.381, 0.384, 0.092, 0.   , 0.142])"
     },
     "execution_count": 107,
     "metadata": {},
     "output_type": "execute_result"
    }
   ],
   "source": [
    "opts['x'].round(3)  "
   ]
  },
  {
   "cell_type": "code",
   "execution_count": 108,
   "metadata": {
    "uuid": "faae2c2f-382b-427b-9426-87085a339b76"
   },
   "outputs": [
    {
     "data": {
      "text/plain": "0.277"
     },
     "execution_count": 108,
     "metadata": {},
     "output_type": "execute_result"
    }
   ],
   "source": [
    "port_ret(opts['x']).round(3)  "
   ]
  },
  {
   "cell_type": "code",
   "execution_count": 109,
   "metadata": {
    "uuid": "faae2c2f-382b-427b-9426-87085a339b76"
   },
   "outputs": [
    {
     "data": {
      "text/plain": "0.198"
     },
     "execution_count": 109,
     "metadata": {},
     "output_type": "execute_result"
    }
   ],
   "source": [
    "port_vol(opts['x']).round(3)  "
   ]
  },
  {
   "cell_type": "code",
   "execution_count": 110,
   "metadata": {},
   "outputs": [
    {
     "data": {
      "text/plain": "1.399822426073594"
     },
     "execution_count": 110,
     "metadata": {},
     "output_type": "execute_result"
    }
   ],
   "source": [
    "port_ret(opts['x']) / port_vol(opts['x'])  "
   ]
  },
  {
   "cell_type": "code",
   "execution_count": 112,
   "metadata": {
    "uuid": "f84ed951-5f9b-4ec7-bb7c-330994bdb0b9"
   },
   "outputs": [],
   "source": [
    "optv = sco.minimize(port_vol, eweights,\n",
    "                    method='SLSQP', bounds=bnds,\n",
    "                    constraints=cons)  "
   ]
  },
  {
   "cell_type": "code",
   "execution_count": 113,
   "metadata": {
    "uuid": "76321897-4b6e-4714-965a-79bdd489b846"
   },
   "outputs": [
    {
     "data": {
      "text/plain": "     fun: 0.08954342056801216\n     jac: array([0.09161475, 0.10726665, 0.08955509, 0.08951482, 0.09000034])\n message: 'Optimization terminated successfully'\n    nfev: 54\n     nit: 9\n    njev: 9\n  status: 0\n success: True\n       x: array([0.        , 0.        , 0.56959414, 0.41874034, 0.01166551])"
     },
     "execution_count": 113,
     "metadata": {},
     "output_type": "execute_result"
    }
   ],
   "source": [
    "optv"
   ]
  },
  {
   "cell_type": "code",
   "execution_count": 114,
   "metadata": {
    "uuid": "031a4259-ecec-4cf4-85cd-98515fe15a6c"
   },
   "outputs": [
    {
     "data": {
      "text/plain": "array([0.   , 0.   , 0.57 , 0.419, 0.012])"
     },
     "execution_count": 114,
     "metadata": {},
     "output_type": "execute_result"
    }
   ],
   "source": [
    "optv['x'].round(3)"
   ]
  },
  {
   "cell_type": "code",
   "execution_count": 116,
   "metadata": {
    "uuid": "1859a17c-e501-4a6f-88ae-16b9cf10b308"
   },
   "outputs": [
    {
     "data": {
      "text/plain": "0.09"
     },
     "execution_count": 116,
     "metadata": {},
     "output_type": "execute_result"
    }
   ],
   "source": [
    "port_vol(optv['x']).round(3)"
   ]
  },
  {
   "cell_type": "code",
   "execution_count": 117,
   "metadata": {
    "uuid": "1859a17c-e501-4a6f-88ae-16b9cf10b308"
   },
   "outputs": [
    {
     "data": {
      "text/plain": "0.052"
     },
     "execution_count": 117,
     "metadata": {},
     "output_type": "execute_result"
    }
   ],
   "source": [
    "port_ret(optv['x']).round(3)"
   ]
  },
  {
   "cell_type": "code",
   "execution_count": 118,
   "metadata": {},
   "outputs": [
    {
     "data": {
      "text/plain": "0.5853231905801888"
     },
     "execution_count": 118,
     "metadata": {},
     "output_type": "execute_result"
    }
   ],
   "source": [
    "port_ret(optv['x']) / port_vol(optv['x'])"
   ]
  },
  {
   "cell_type": "markdown",
   "metadata": {},
   "source": [
    "### Efficient Frontier"
   ]
  },
  {
   "cell_type": "code",
   "execution_count": 119,
   "metadata": {
    "uuid": "a49f6ebe-1552-400f-b97f-a26d1bd9fa2a"
   },
   "outputs": [],
   "source": [
    "cons = ({'type': 'eq', 'fun': lambda x:  port_ret(x) - tret},\n",
    "        {'type': 'eq', 'fun': lambda x:  np.sum(x) - 1})  "
   ]
  },
  {
   "cell_type": "code",
   "execution_count": 120,
   "metadata": {
    "uuid": "a49f6ebe-1552-400f-b97f-a26d1bd9fa2a"
   },
   "outputs": [],
   "source": [
    "bnds = tuple((0, 1) for x in weights)"
   ]
  },
  {
   "cell_type": "code",
   "execution_count": 121,
   "metadata": {
    "uuid": "75433eba-18d3-416a-95a9-c404293ef495"
   },
   "outputs": [
    {
     "name": "stdout",
     "output_type": "stream",
     "text": [
      "CPU times: user 6.51 s, sys: 178 ms, total: 6.69 s\n",
      "Wall time: 9.11 s\n"
     ]
    }
   ],
   "source": [
    "%%time\n",
    "trets = np.linspace(0.05, 0.2, 50)\n",
    "tvols = []\n",
    "for tret in trets:\n",
    "    res = sco.minimize(port_vol, eweights, method='SLSQP',\n",
    "                       bounds=bnds, constraints=cons)  \n",
    "    tvols.append(res['fun'])\n",
    "tvols = np.array(tvols)"
   ]
  },
  {
   "cell_type": "code",
   "execution_count": 122,
   "metadata": {
    "uuid": "b16fdf94-8324-481a-a360-ed2060b9f481"
   },
   "outputs": [
    {
     "name": "stderr",
     "output_type": "stream",
     "text": [
      "/var/folders/bh/t4pmhqqn52n_y66q9mqwj6pw0000gn/T/ipykernel_3277/2759402889.py:11: MatplotlibDeprecationWarning: Auto-removal of grids by pcolor() and pcolormesh() is deprecated since 3.5 and will be removed two minor releases later; please call grid(False) first.\n",
      "  plt.colorbar(label='Sharpe ratio')\n"
     ]
    },
    {
     "data": {
      "text/plain": "<matplotlib.colorbar.Colorbar at 0x128567d00>"
     },
     "execution_count": 122,
     "metadata": {},
     "output_type": "execute_result"
    },
    {
     "data": {
      "text/plain": "<Figure size 720x432 with 2 Axes>",
      "image/png": "[encoded data removed]"
     },
     "metadata": {
      "needs_background": "light"
     },
     "output_type": "display_data"
    }
   ],
   "source": [
    "plt.figure(figsize=(10, 6))\n",
    "plt.scatter(pvols, prets, c=prets / pvols,\n",
    "            marker='.', alpha=0.8, cmap='coolwarm')\n",
    "plt.plot(tvols, trets, 'b', lw=4.0)\n",
    "plt.plot(port_vol(opts['x']), port_ret(opts['x']),\n",
    "         'y*', markersize=15.0)\n",
    "plt.plot(port_vol(optv['x']), port_ret(optv['x']),\n",
    "         'r*', markersize=15.0)\n",
    "plt.xlabel('expected volatility')\n",
    "plt.ylabel('expected return')\n",
    "plt.colorbar(label='Sharpe ratio')\n",
    "# plt.savefig('../../images/ch13/stat_13.png')"
   ]
  },
  {
   "cell_type": "markdown",
   "metadata": {},
   "source": [
    "### Capital Market Line"
   ]
  },
  {
   "cell_type": "code",
   "execution_count": 124,
   "metadata": {
    "uuid": "b6eb023a-2407-49d7-986d-3d47e9c3ae45"
   },
   "outputs": [],
   "source": [
    "import scipy.interpolate as sci"
   ]
  },
  {
   "cell_type": "code",
   "execution_count": 125,
   "metadata": {
    "uuid": "cca0eb49-0c77-4186-a2df-06ebf56fa923"
   },
   "outputs": [],
   "source": [
    "ind = np.argmin(tvols)  \n",
    "evols = tvols[ind:]  \n",
    "erets = trets[ind:]  "
   ]
  },
  {
   "cell_type": "code",
   "execution_count": 126,
   "metadata": {
    "uuid": "c3bf6d9e-0548-4874-90fc-0555f05afd5e"
   },
   "outputs": [],
   "source": [
    "tck = sci.splrep(evols, erets)  "
   ]
  },
  {
   "cell_type": "code",
   "execution_count": 127,
   "metadata": {
    "uuid": "f37d6e01-0091-42d4-a9ca-1102f0fdb436"
   },
   "outputs": [],
   "source": [
    "def f(x):\n",
    "    ''' Efficient frontier function (splines approximation). '''\n",
    "    return sci.splev(x, tck, der=0)\n",
    "def df(x):\n",
    "    ''' First derivative of efficient frontier function. '''\n",
    "    return sci.splev(x, tck, der=1)"
   ]
  },
  {
   "cell_type": "code",
   "execution_count": 128,
   "metadata": {
    "uuid": "e0a3d820-a9f1-41fa-a5bf-46fe176fdb68"
   },
   "outputs": [],
   "source": [
    "def equations(p, rf=0.01):\n",
    "    eq1 = rf - p[0]  \n",
    "    eq2 = rf + p[1] * p[2] - f(p[2])  \n",
    "    eq3 = p[1] - df(p[2])  \n",
    "    return eq1, eq2, eq3"
   ]
  },
  {
   "cell_type": "code",
   "execution_count": 129,
   "metadata": {
    "uuid": "2c23eced-0b5a-45cd-b677-f4eff5876f43"
   },
   "outputs": [],
   "source": [
    "opt = sco.fsolve(equations, [0.01, 0.5, 0.15])  "
   ]
  },
  {
   "cell_type": "code",
   "execution_count": 130,
   "metadata": {
    "uuid": "f4c2c1e9-aef7-4d22-9e1c-3b7ff5066830"
   },
   "outputs": [
    {
     "data": {
      "text/plain": "array([0.01      , 1.32926727, 0.18161092])"
     },
     "execution_count": 130,
     "metadata": {},
     "output_type": "execute_result"
    }
   ],
   "source": [
    "opt  "
   ]
  },
  {
   "cell_type": "code",
   "execution_count": 131,
   "metadata": {
    "uuid": "3651a6fa-7740-43fe-a18a-1134cbed7b0a"
   },
   "outputs": [
    {
     "data": {
      "text/plain": "array([ 0., -0., -0.])"
     },
     "execution_count": 131,
     "metadata": {},
     "output_type": "execute_result"
    }
   ],
   "source": [
    "np.round(equations(opt), 6)  "
   ]
  },
  {
   "cell_type": "code",
   "execution_count": 132,
   "metadata": {
    "scrolled": false,
    "uuid": "b4e45542-14a5-4e96-9bbe-186873d9f429"
   },
   "outputs": [
    {
     "name": "stderr",
     "output_type": "stream",
     "text": [
      "/var/folders/bh/t4pmhqqn52n_y66q9mqwj6pw0000gn/T/ipykernel_3277/1528333178.py:13: MatplotlibDeprecationWarning: Auto-removal of grids by pcolor() and pcolormesh() is deprecated since 3.5 and will be removed two minor releases later; please call grid(False) first.\n",
      "  plt.colorbar(label='Sharpe ratio')\n"
     ]
    },
    {
     "data": {
      "text/plain": "<matplotlib.colorbar.Colorbar at 0x12839e6a0>"
     },
     "execution_count": 132,
     "metadata": {},
     "output_type": "execute_result"
    },
    {
     "data": {
      "text/plain": "<Figure size 720x432 with 2 Axes>",
      "image/png": "[encoded data removed]"
     },
     "metadata": {
      "needs_background": "light"
     },
     "output_type": "display_data"
    }
   ],
   "source": [
    "plt.figure(figsize=(10, 6))\n",
    "plt.scatter(pvols, prets, c=(prets - 0.01) / pvols,\n",
    "            marker='.', cmap='coolwarm')\n",
    "plt.plot(evols, erets, 'b', lw=4.0)\n",
    "cx = np.linspace(0.0, 0.3)\n",
    "plt.plot(cx, opt[0] + opt[1] * cx, 'r', lw=1.5)\n",
    "plt.plot(opt[2], f(opt[2]), 'y*', markersize=15.0) \n",
    "plt.grid(True)\n",
    "plt.axhline(0, color='k', ls='--', lw=2.0)\n",
    "plt.axvline(0, color='k', ls='--', lw=2.0)\n",
    "plt.xlabel('expected volatility')\n",
    "plt.ylabel('expected return')\n",
    "plt.colorbar(label='Sharpe ratio')\n",
    "# plt.savefig('../../images/ch13/stat_14.png')"
   ]
  },
  {
   "cell_type": "code",
   "execution_count": 133,
   "metadata": {
    "uuid": "f2e04c2a-434a-442d-bce2-0f7be60c6e80"
   },
   "outputs": [],
   "source": [
    "cons = ({'type': 'eq', 'fun': lambda x:  port_ret(x) - f(opt[2])},\n",
    "        {'type': 'eq', 'fun': lambda x:  np.sum(x) - 1})  \n",
    "res = sco.minimize(port_vol, eweights, method='SLSQP',\n",
    "                   bounds=bnds, constraints=cons)"
   ]
  },
  {
   "cell_type": "code",
   "execution_count": 134,
   "metadata": {
    "uuid": "78362c70-0acf-4f13-9a7d-04adbc7de43a"
   },
   "outputs": [
    {
     "data": {
      "text/plain": "array([0.33 , 0.312, 0.234, 0.   , 0.124])"
     },
     "execution_count": 134,
     "metadata": {},
     "output_type": "execute_result"
    }
   ],
   "source": [
    "res['x'].round(3)  "
   ]
  },
  {
   "cell_type": "code",
   "execution_count": 135,
   "metadata": {},
   "outputs": [
    {
     "data": {
      "text/plain": "0.25140945325531555"
     },
     "execution_count": 135,
     "metadata": {},
     "output_type": "execute_result"
    }
   ],
   "source": [
    "port_ret(res['x'])"
   ]
  },
  {
   "cell_type": "code",
   "execution_count": 136,
   "metadata": {},
   "outputs": [
    {
     "data": {
      "text/plain": "0.18017127665044463"
     },
     "execution_count": 136,
     "metadata": {},
     "output_type": "execute_result"
    }
   ],
   "source": [
    "port_vol(res['x'])"
   ]
  },
  {
   "cell_type": "code",
   "execution_count": 137,
   "metadata": {},
   "outputs": [
    {
     "data": {
      "text/plain": "1.3953914182618692"
     },
     "execution_count": 137,
     "metadata": {},
     "output_type": "execute_result"
    }
   ],
   "source": [
    "port_ret(res['x']) / port_vol(res['x'])"
   ]
  },
  {
   "cell_type": "markdown",
   "metadata": {},
   "source": [
    "<img src=\"http://hilpisch.com/tpq_logo.png\" alt=\"The Python Quants\" width=\"35%\" align=\"right\" border=\"0\"><br>\n",
    "\n",
    "<a href=\"http://tpq.io\" target=\"_blank\">http://tpq.io</a> | <a href=\"http://twitter.com/dyjh\" target=\"_blank\">@dyjh</a> | <a href=\"mailto:training@tpq.io\">training@tpq.io</a>"
   ]
  }
 ],
 "metadata": {
  "anaconda-cloud": {},
  "kernelspec": {
   "display_name": "Python 3 (ipykernel)",
   "language": "python",
   "name": "python3"
  },
  "language_info": {
   "codemirror_mode": {
    "name": "ipython",
    "version": 3
   },
   "file_extension": ".py",
   "mimetype": "text/x-python",
   "name": "python",
   "nbconvert_exporter": "python",
   "pygments_lexer": "ipython3",
   "version": "3.8.9"
  }
 },
 "nbformat": 4,
 "nbformat_minor": 1
}