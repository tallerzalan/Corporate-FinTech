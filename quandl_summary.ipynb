{
 "cells": [
  {
   "cell_type": "code",
   "execution_count": 1,
   "metadata": {
    "collapsed": true
   },
   "outputs": [],
   "source": [
    "import nasdaqdatalink\n",
    "import pandas as pd\n",
    "import seaborn as sns"
   ]
  },
  {
   "cell_type": "code",
   "execution_count": 4,
   "outputs": [],
   "source": [
    "nasdaqdatalink.read_key('MyfWRTR648KvgDigeS5s')"
   ],
   "metadata": {
    "collapsed": false,
    "pycharm": {
     "name": "#%%\n"
    }
   }
  },
  {
   "cell_type": "code",
   "execution_count": 5,
   "outputs": [],
   "source": [
    "mydata = nasdaqdatalink.get(\"FRED/GDP\")"
   ],
   "metadata": {
    "collapsed": false,
    "pycharm": {
     "name": "#%%\n"
    }
   }
  },
  {
   "cell_type": "code",
   "execution_count": 6,
   "outputs": [],
   "source": [
    "raw = nasdaqdatalink.get([\"GDAX/ETH_EUR\", \"NASDAQOMX/OMXN40\"])"
   ],
   "metadata": {
    "collapsed": false,
    "pycharm": {
     "name": "#%%\n"
    }
   }
  },
  {
   "cell_type": "code",
   "execution_count": 7,
   "outputs": [],
   "source": [
    "columns = raw.columns"
   ],
   "metadata": {
    "collapsed": false,
    "pycharm": {
     "name": "#%%\n"
    }
   }
  },
  {
   "cell_type": "code",
   "execution_count": 8,
   "outputs": [
    {
     "name": "stdout",
     "output_type": "stream",
     "text": [
      "<class 'pandas.core.frame.DataFrame'>\n",
      "DatetimeIndex: 3452 entries, 2008-11-17 to 2021-07-28\n",
      "Data columns (total 9 columns):\n",
      " #   Column                                    Non-Null Count  Dtype  \n",
      "---  ------                                    --------------  -----  \n",
      " 0   GDAX/ETH_EUR - Open                       787 non-null    float64\n",
      " 1   GDAX/ETH_EUR - High                       787 non-null    float64\n",
      " 2   GDAX/ETH_EUR - Low                        787 non-null    float64\n",
      " 3   GDAX/ETH_EUR - Volume                     787 non-null    float64\n",
      " 4   NASDAQOMX/OMXN40 - Index Value            3249 non-null   float64\n",
      " 5   NASDAQOMX/OMXN40 - High                   3253 non-null   float64\n",
      " 6   NASDAQOMX/OMXN40 - Low                    3253 non-null   float64\n",
      " 7   NASDAQOMX/OMXN40 - Total Market Value     3249 non-null   float64\n",
      " 8   NASDAQOMX/OMXN40 - Dividend Market Value  3253 non-null   float64\n",
      "dtypes: float64(9)\n",
      "memory usage: 269.7 KB\n"
     ]
    }
   ],
   "source": [
    "info = raw.info()"
   ],
   "metadata": {
    "collapsed": false,
    "pycharm": {
     "name": "#%%\n"
    }
   }
  },
  {
   "cell_type": "code",
   "execution_count": 10,
   "outputs": [],
   "source": [
    "sstructure = raw.describe()"
   ],
   "metadata": {
    "collapsed": false,
    "pycharm": {
     "name": "#%%\n"
    }
   }
  }
 ],
 "metadata": {
  "kernelspec": {
   "display_name": "Python 3",
   "language": "python",
   "name": "python3"
  },
  "language_info": {
   "codemirror_mode": {
    "name": "ipython",
    "version": 2
   },
   "file_extension": ".py",
   "mimetype": "text/x-python",
   "name": "python",
   "nbconvert_exporter": "python",
   "pygments_lexer": "ipython2",
   "version": "2.7.6"
  }
 },
 "nbformat": 4,
 "nbformat_minor": 0
}